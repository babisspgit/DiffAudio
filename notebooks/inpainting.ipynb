{
 "cells": [
  {
   "cell_type": "code",
   "execution_count": 4,
   "metadata": {},
   "outputs": [],
   "source": [
    "import pandas as pd\n",
    "from diffusers import StableDiffusionPipeline, StableDiffusionInpaintPipeline\n",
    "from PIL import Image, ImageDraw\n",
    "import torch"
   ]
  },
  {
   "cell_type": "code",
   "execution_count": 7,
   "metadata": {},
   "outputs": [
    {
     "data": {
      "application/vnd.jupyter.widget-view+json": {
       "model_id": "9931cde28fb34e64963366a5f0b894cd",
       "version_major": 2,
       "version_minor": 0
      },
      "text/plain": [
       "Loading pipeline components...:   0%|          | 0/7 [00:00<?, ?it/s]"
      ]
     },
     "metadata": {},
     "output_type": "display_data"
    },
    {
     "name": "stderr",
     "output_type": "stream",
     "text": [
      "An error occurred while trying to fetch C:\\Users\\spbsp\\.cache\\huggingface\\hub\\models--riffusion--riffusion-model-v1\\snapshots\\8f2e752c74e8316c6eb4fdaa6598a46ce1d88af5\\vae: Error no file named diffusion_pytorch_model.safetensors found in directory C:\\Users\\spbsp\\.cache\\huggingface\\hub\\models--riffusion--riffusion-model-v1\\snapshots\\8f2e752c74e8316c6eb4fdaa6598a46ce1d88af5\\vae.\n",
      "Defaulting to unsafe serialization. Pass `allow_pickle=False` to raise an error instead.\n",
      "An error occurred while trying to fetch C:\\Users\\spbsp\\.cache\\huggingface\\hub\\models--riffusion--riffusion-model-v1\\snapshots\\8f2e752c74e8316c6eb4fdaa6598a46ce1d88af5\\unet: Error no file named diffusion_pytorch_model.safetensors found in directory C:\\Users\\spbsp\\.cache\\huggingface\\hub\\models--riffusion--riffusion-model-v1\\snapshots\\8f2e752c74e8316c6eb4fdaa6598a46ce1d88af5\\unet.\n",
      "Defaulting to unsafe serialization. Pass `allow_pickle=False` to raise an error instead.\n"
     ]
    },
    {
     "name": "stdout",
     "output_type": "stream",
     "text": [
      "Pipeline loaded.\n"
     ]
    }
   ],
   "source": [
    "# Load the Riffusion inpainting pipeline\n",
    "pipe = StableDiffusionInpaintPipeline.from_pretrained(\"riffusion/riffusion-model-v1\", torch_dtype=torch.float16).to(\"cuda\")\n",
    "print(\"Pipeline loaded.\")\n"
   ]
  },
  {
   "cell_type": "code",
   "execution_count": 9,
   "metadata": {},
   "outputs": [],
   "source": [
    "# Load the 5-second spectrogram image\n",
    "img_path = \"../data/processed/1000dataset_5/specs/74niLvcQCxCi90ZzPnVVFM_segment_2.png\"\n",
    "spectrogram = Image.open(img_path).convert(\"RGB\")  # Convert to RGB as required by the pipeline\n"
   ]
  },
  {
   "cell_type": "code",
   "execution_count": null,
   "metadata": {},
   "outputs": [],
   "source": [
    "# Create a binary mask for the final 1 second\n",
    "mask = Image.new(\"L\", spectrogram.size, 0)  # Create a black mask\n",
    "mask_width = spectrogram.width // 5  # Assuming the width represents 5 seconds\n",
    "draw = ImageDraw.Draw(mask)\n",
    "draw.rectangle([(spectrogram.width - mask_width, 0), (spectrogram.width, spectrogram.height)], fill=255)  # White mask for the last 1 second\n",
    "print(\"Mask created.\")\n"
   ]
  }
 ],
 "metadata": {
  "kernelspec": {
   "display_name": "ddpm",
   "language": "python",
   "name": "python3"
  },
  "language_info": {
   "codemirror_mode": {
    "name": "ipython",
    "version": 3
   },
   "file_extension": ".py",
   "mimetype": "text/x-python",
   "name": "python",
   "nbconvert_exporter": "python",
   "pygments_lexer": "ipython3",
   "version": "3.10.10"
  }
 },
 "nbformat": 4,
 "nbformat_minor": 2
}

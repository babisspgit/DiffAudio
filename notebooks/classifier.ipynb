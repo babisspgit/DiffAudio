{
 "cells": [
  {
   "cell_type": "code",
   "execution_count": 1,
   "metadata": {},
   "outputs": [],
   "source": [
    "import pandas as pd"
   ]
  },
  {
   "cell_type": "code",
   "execution_count": 17,
   "metadata": {},
   "outputs": [],
   "source": [
    "#df=pd.read_csv('../data/processed/1000dataset_spec_genre.csv')\n",
    "df=pd.read_csv('../data/processed/1000dataset_spec_valence_cluster.csv')"
   ]
  },
  {
   "cell_type": "code",
   "execution_count": 18,
   "metadata": {},
   "outputs": [],
   "source": [
    "# label encode df\n",
    "from sklearn.preprocessing import LabelEncoder\n",
    "le = LabelEncoder()\n",
    "df['class'] = le.fit_transform(df['class'])\n",
    "\n",
    "#df.to_csv('../data/processed/L1000dataset_spec_genre.csv', index=False)\n",
    "df.to_csv('../data/processed/L1000dataset_spec_valence.csv', index=False)"
   ]
  },
  {
   "cell_type": "markdown",
   "metadata": {},
   "source": [
    "## Create dataset + dataloader\n"
   ]
  },
  {
   "cell_type": "code",
   "execution_count": 2,
   "metadata": {},
   "outputs": [],
   "source": [
    "from collections import defaultdict\n",
    "from sklearn.model_selection import train_test_split\n",
    "import pandas as pd\n",
    "import random\n",
    "from torchvision import transforms\n",
    "from torch.utils.data import Dataset, DataLoader\n",
    "from PIL import Image\n",
    "import os\n",
    "\n",
    "# Step 1: Group images by track ID and class\n",
    "def group_tracks_by_class_and_id(association_csv):\n",
    "    df = pd.read_csv(association_csv)\n",
    "    df['track_id'] = df['image_path'].apply(lambda x: \"_\".join(os.path.basename(x).split(\"_\")[:-2]))\n",
    "    class_groups = defaultdict(list)\n",
    "    \n",
    "    # Group track IDs by their class\n",
    "    for track_id, group in df.groupby('track_id'):\n",
    "        track_class = group.iloc[0]['class']\n",
    "        class_groups[track_class].append(track_id)\n",
    "    \n",
    "    return class_groups, df\n",
    "\n",
    "# Step 2: Split track IDs for each class\n",
    "def split_tracks_by_class(class_groups, train_ratio=0.7, val_ratio=0.1, test_ratio=0.2):\n",
    "    train_ids, val_ids, test_ids = [], [], []\n",
    "    \n",
    "    for track_class, track_ids in class_groups.items():\n",
    "        random.shuffle(track_ids)  # Shuffle track IDs within the class\n",
    "        \n",
    "        # Perform splits\n",
    "        train, temp = train_test_split(track_ids, test_size=(1 - train_ratio))\n",
    "        val, test = train_test_split(temp, test_size=(test_ratio / (test_ratio + val_ratio)))\n",
    "        \n",
    "        # Append to respective splits\n",
    "        train_ids.extend(train)\n",
    "        val_ids.extend(val)\n",
    "        test_ids.extend(test)\n",
    "    \n",
    "    return train_ids, val_ids, test_ids\n"
   ]
  },
  {
   "cell_type": "code",
   "execution_count": 3,
   "metadata": {},
   "outputs": [],
   "source": [
    "# Step 3: Create a custom PyTorch Dataset\n",
    "class SpectrogramDataset(Dataset):\n",
    "    def __init__(self, df, track_ids, transform=None):\n",
    "        self.data = df[df['track_id'].isin(track_ids)]\n",
    "        self.transform = transform\n",
    "\n",
    "    def __len__(self):\n",
    "        return len(self.data)\n",
    "\n",
    "    def __getitem__(self, idx):\n",
    "        row = self.data.iloc[idx]\n",
    "        img_path = row['image_path']\n",
    "        label = row['class']\n",
    "        \n",
    "        # Load image\n",
    "        image = Image.open(img_path).convert(\"RGB\")\n",
    "        \n",
    "        # Apply transformations\n",
    "        if self.transform:\n",
    "            image = self.transform(image)\n",
    "        \n",
    "        return image, label"
   ]
  },
  {
   "cell_type": "code",
   "execution_count": 4,
   "metadata": {},
   "outputs": [],
   "source": [
    "# Step 4: Create DataLoaders\n",
    "def create_balanced_dataloaders(image_folder, association_csv, batch_size=32):\n",
    "    # Group by class and track ID\n",
    "    class_groups, df = group_tracks_by_class_and_id(association_csv)\n",
    "    \n",
    "    # Perform class-balanced splits\n",
    "    train_ids, val_ids, test_ids = split_tracks_by_class(class_groups)\n",
    "    \n",
    "    # Define image transformations (e.g., resizing, normalization)\n",
    "    transform = transforms.Compose([\n",
    "        transforms.Resize((224, 224)),  # Resize to a consistent size\n",
    "        transforms.ToTensor(),         # Convert to tensor\n",
    "        transforms.Normalize(mean=[0.5, 0.5, 0.5], std=[0.5, 0.5, 0.5])  # Normalize\n",
    "    ])\n",
    "    \n",
    "    # Create datasets\n",
    "    train_dataset = SpectrogramDataset(df, train_ids, transform=transform)\n",
    "    val_dataset = SpectrogramDataset(df, val_ids, transform=transform)\n",
    "    test_dataset = SpectrogramDataset(df, test_ids, transform=transform)\n",
    "    \n",
    "    # Create DataLoaders\n",
    "    train_loader = DataLoader(train_dataset, batch_size=batch_size, shuffle=True)\n",
    "    val_loader = DataLoader(val_dataset, batch_size=batch_size, shuffle=False)\n",
    "    test_loader = DataLoader(test_dataset, batch_size=batch_size, shuffle=False)\n",
    "    \n",
    "    return train_loader, val_loader, test_loader\n"
   ]
  },
  {
   "cell_type": "code",
   "execution_count": 5,
   "metadata": {},
   "outputs": [
    {
     "name": "stdout",
     "output_type": "stream",
     "text": [
      "Number of training samples: 3486\n",
      "Number of validation samples: 495\n",
      "Number of testing samples: 1012\n"
     ]
    }
   ],
   "source": [
    "image_folder = \"../data/raw/1000dataset_5/specs\"\n",
    "#association_csv = \"../data/processed/L1000dataset_spec_genre.csv\"\n",
    "association_csv = \"../data/processed/L1000dataset_5seg_valence.csv\"\n",
    "\n",
    "train_loader, val_loader, test_loader = create_balanced_dataloaders(image_folder, association_csv)\n",
    "\n",
    "# Verify the splits\n",
    "print(f\"Number of training samples: {len(train_loader.dataset)}\")\n",
    "print(f\"Number of validation samples: {len(val_loader.dataset)}\")\n",
    "print(f\"Number of testing samples: {len(test_loader.dataset)}\")\n"
   ]
  },
  {
   "cell_type": "code",
   "execution_count": 6,
   "metadata": {},
   "outputs": [
    {
     "name": "stdout",
     "output_type": "stream",
     "text": [
      "(tensor([[[-1.0000, -1.0000, -1.0000,  ..., -1.0000, -1.0000, -0.9922],\n",
      "         [-1.0000, -1.0000, -1.0000,  ..., -1.0000, -1.0000, -0.9922],\n",
      "         [-1.0000, -1.0000, -1.0000,  ..., -1.0000, -1.0000, -0.9922],\n",
      "         ...,\n",
      "         [ 0.6627,  0.6078,  0.6863,  ...,  0.9059,  0.9294,  0.9608],\n",
      "         [ 0.6627,  0.6784,  0.6078,  ...,  0.9294,  0.9451,  0.9686],\n",
      "         [ 0.6157,  0.6235,  0.4980,  ...,  0.9529,  0.9686,  0.9765]],\n",
      "\n",
      "        [[-1.0000, -1.0000, -1.0000,  ..., -1.0000, -1.0000, -0.9922],\n",
      "         [-1.0000, -1.0000, -1.0000,  ..., -1.0000, -1.0000, -0.9922],\n",
      "         [-1.0000, -1.0000, -1.0000,  ..., -1.0000, -1.0000, -0.9922],\n",
      "         ...,\n",
      "         [-0.4275, -0.4431, -0.4039,  ...,  0.8588,  0.6941,  0.4902],\n",
      "         [-0.4275, -0.4196, -0.4745,  ...,  0.6627,  0.6000,  0.4275],\n",
      "         [-0.4667, -0.4588, -0.5451,  ...,  0.3098,  0.4118,  0.3176]],\n",
      "\n",
      "        [[-0.9686, -0.9686, -0.9686,  ..., -0.9686, -0.9686, -0.9373],\n",
      "         [-0.9686, -0.9686, -0.9686,  ..., -0.9686, -0.9686, -0.9373],\n",
      "         [-0.9686, -0.9686, -0.9686,  ..., -0.9686, -0.9686, -0.9373],\n",
      "         ...,\n",
      "         [-0.4902, -0.4588, -0.5059,  ..., -0.0824, -0.4039, -0.6863],\n",
      "         [-0.4902, -0.4980, -0.4431,  ..., -0.4667, -0.5608, -0.7647],\n",
      "         [-0.4510, -0.4510, -0.3647,  ..., -0.7961, -0.7882, -0.8745]]]), 0)\n"
     ]
    }
   ],
   "source": [
    "dataset = train_loader.dataset\n",
    "print(dataset[0])"
   ]
  },
  {
   "cell_type": "markdown",
   "metadata": {},
   "source": [
    "# Model Creation"
   ]
  },
  {
   "cell_type": "code",
   "execution_count": 7,
   "metadata": {},
   "outputs": [
    {
     "name": "stderr",
     "output_type": "stream",
     "text": [
      "c:\\Users\\spbsp\\anaconda3\\envs\\ddpm\\lib\\site-packages\\torchvision\\models\\_utils.py:208: UserWarning: The parameter 'pretrained' is deprecated since 0.13 and may be removed in the future, please use 'weights' instead.\n",
      "  warnings.warn(\n",
      "c:\\Users\\spbsp\\anaconda3\\envs\\ddpm\\lib\\site-packages\\torchvision\\models\\_utils.py:223: UserWarning: Arguments other than a weight enum or `None` for 'weights' are deprecated since 0.13 and may be removed in the future. The current behavior is equivalent to passing `weights=ResNet18_Weights.IMAGENET1K_V1`. You can also use `weights=ResNet18_Weights.DEFAULT` to get the most up-to-date weights.\n",
      "  warnings.warn(msg)\n"
     ]
    }
   ],
   "source": [
    "import torch\n",
    "from torch import nn\n",
    "#from audioset_tagging_cnn.models import Cnn14  \n",
    "import torch.nn as nn\n",
    "from torchvision import models\n",
    "\n",
    "num_classes = 3\n",
    "\n",
    "# Load a pre-trained model\n",
    "model = models.resnet18(pretrained=True)\n",
    "model.fc = nn.Linear(model.fc.in_features, num_classes)\n",
    "\n",
    "#Modify the final layer for the number of genres \n",
    "#model.fc = nn.Sequential(\n",
    "#    nn.Linear(model.fc.in_features, 256),  # Intermediate layer\n",
    "#    nn.ReLU(),\n",
    "#    nn.Dropout(0.3),\n",
    "#    nn.Linear(256, num_classes)  # Output layer for genres\n",
    "#)\n",
    "\n",
    "# Set the device\n",
    "device = torch.device(\"cuda\" if torch.cuda.is_available() else \"cpu\")\n",
    "model = model.to(device)\n"
   ]
  },
  {
   "cell_type": "markdown",
   "metadata": {},
   "source": [
    "# Training/Validation loop"
   ]
  },
  {
   "cell_type": "code",
   "execution_count": 8,
   "metadata": {},
   "outputs": [
    {
     "name": "stderr",
     "output_type": "stream",
     "text": [
      "Failed to detect the name of this notebook, you can set it manually with the WANDB_NOTEBOOK_NAME environment variable to enable code saving.\n",
      "\u001b[34m\u001b[1mwandb\u001b[0m: Currently logged in as: \u001b[33mbabisbabis\u001b[0m. Use \u001b[1m`wandb login --relogin`\u001b[0m to force relogin\n"
     ]
    },
    {
     "data": {
      "text/html": [
       "wandb version 0.18.7 is available!  To upgrade, please run:\n",
       " $ pip install wandb --upgrade"
      ],
      "text/plain": [
       "<IPython.core.display.HTML object>"
      ]
     },
     "metadata": {},
     "output_type": "display_data"
    },
    {
     "data": {
      "text/html": [
       "Tracking run with wandb version 0.15.10"
      ],
      "text/plain": [
       "<IPython.core.display.HTML object>"
      ]
     },
     "metadata": {},
     "output_type": "display_data"
    },
    {
     "data": {
      "text/html": [
       "Run data is saved locally in <code>c:\\Users\\spbsp\\OneDrive - Danmarks Tekniske Universitet\\Skrivebord\\DiffAudio\\notebooks\\wandb\\run-20241202_085516-d3rtxxhg</code>"
      ],
      "text/plain": [
       "<IPython.core.display.HTML object>"
      ]
     },
     "metadata": {},
     "output_type": "display_data"
    },
    {
     "data": {
      "text/html": [
       "Syncing run <strong><a href='https://wandb.ai/babisbabis/Audio_Class/runs/d3rtxxhg' target=\"_blank\">helpful-silence-12</a></strong> to <a href='https://wandb.ai/babisbabis/Audio_Class' target=\"_blank\">Weights & Biases</a> (<a href='https://wandb.me/run' target=\"_blank\">docs</a>)<br/>"
      ],
      "text/plain": [
       "<IPython.core.display.HTML object>"
      ]
     },
     "metadata": {},
     "output_type": "display_data"
    },
    {
     "data": {
      "text/html": [
       " View project at <a href='https://wandb.ai/babisbabis/Audio_Class' target=\"_blank\">https://wandb.ai/babisbabis/Audio_Class</a>"
      ],
      "text/plain": [
       "<IPython.core.display.HTML object>"
      ]
     },
     "metadata": {},
     "output_type": "display_data"
    },
    {
     "data": {
      "text/html": [
       " View run at <a href='https://wandb.ai/babisbabis/Audio_Class/runs/d3rtxxhg' target=\"_blank\">https://wandb.ai/babisbabis/Audio_Class/runs/d3rtxxhg</a>"
      ],
      "text/plain": [
       "<IPython.core.display.HTML object>"
      ]
     },
     "metadata": {},
     "output_type": "display_data"
    }
   ],
   "source": [
    "import wandb\n",
    "\n",
    "# Initialize a new W&B run\n",
    "wandb.init(project='Audio_Class',  \n",
    "    \n",
    "    config={\n",
    "    \"learning_rate\": 0.001,\n",
    "    \"epochs\": 10,\n",
    "    \"batch_size\": 32,\n",
    "    # Add other hyperparameters as needed\n",
    "})\n",
    "\n",
    "# Access the configuration\n",
    "config = wandb.config\n"
   ]
  },
  {
   "cell_type": "code",
   "execution_count": 9,
   "metadata": {},
   "outputs": [],
   "source": [
    "from tqdm import tqdm\n",
    "import os\n",
    "import torch\n",
    "import wandb\n",
    "\n",
    "# Initialize a new W&B run\n",
    "#wandb.init(project='Audio_Class',  \n",
    "#    \n",
    "#    config={\n",
    "#    \"learning_rate\": 0.001,\n",
    "#    \"epochs\": 10,\n",
    "#    \"batch_size\": 32,\n",
    "#    # Add other hyperparameters as needed\n",
    "#})\n",
    "#\n",
    "## Access the configuration\n",
    "#config = wandb.config\n",
    "\n",
    "\n",
    "def train_model(model, train_loader, val_loader, criterion, optimizer, num_epochs=10, save_interval=1):\n",
    "    for epoch in range(num_epochs):\n",
    "        model.train()\n",
    "        train_loss, train_correct = 0, 0\n",
    "\n",
    "        # Initialize tqdm progress bar for training\n",
    "        progress_bar = tqdm(train_loader, desc=f\"Epoch {epoch+1}/{num_epochs} - Training\", leave=True)\n",
    "        \n",
    "        for images, labels in progress_bar:\n",
    "            images, labels = images.to(device), labels.to(device)\n",
    "\n",
    "            # Forward pass\n",
    "            outputs = model(images)\n",
    "            loss = criterion(outputs, labels)\n",
    "\n",
    "            # Backward pass and optimization\n",
    "            optimizer.zero_grad()\n",
    "            loss.backward()\n",
    "            optimizer.step()\n",
    "\n",
    "            # Calculate metrics\n",
    "            train_loss += loss.item() * images.size(0)\n",
    "            train_correct += (outputs.argmax(1) == labels).sum().item()\n",
    "\n",
    "            # Update tqdm bar\n",
    "            progress_bar.set_postfix({\"Loss\": f\"{loss.item():.4f}\"})\n",
    "\n",
    "        train_loss /= len(train_loader.dataset)\n",
    "        train_accuracy = train_correct / len(train_loader.dataset)\n",
    "        progress_bar.close()\n",
    "        \n",
    "        # Log training metrics to W&B\n",
    "        wandb.log({\n",
    "            \"epoch\": epoch + 1,\n",
    "            \"train_loss\": train_loss,\n",
    "            \"train_accuracy\": train_accuracy,\n",
    "        })\n",
    "\n",
    "        # Validation phase\n",
    "        model.eval()\n",
    "        val_loss, val_correct = 0, 0\n",
    "\n",
    "        # Initialize tqdm progress bar for validation\n",
    "        progress_bar = tqdm(val_loader, desc=f\"Epoch {epoch+1}/{num_epochs} - Validation\", leave=True)\n",
    "        \n",
    "        with torch.no_grad():\n",
    "            for images, labels in progress_bar:\n",
    "                images, labels = images.to(device), labels.to(device)\n",
    "\n",
    "                # Forward pass\n",
    "                outputs = model(images)\n",
    "                loss = criterion(outputs, labels)\n",
    "\n",
    "                # Calculate metrics\n",
    "                val_loss += loss.item() * images.size(0)\n",
    "                val_correct += (outputs.argmax(1) == labels).sum().item()\n",
    "\n",
    "                # Update tqdm bar\n",
    "                progress_bar.set_postfix({\"Loss\": f\"{loss.item():.4f}\"})\n",
    "        \n",
    "        val_loss /= len(val_loader.dataset)\n",
    "        val_accuracy = val_correct / len(val_loader.dataset)\n",
    "        progress_bar.close()\n",
    "        \n",
    "                # Log validation metrics to W&B\n",
    "        wandb.log({\n",
    "            \"epoch\": epoch + 1,\n",
    "            \"val_loss\": val_loss,\n",
    "            \"val_accuracy\": val_accuracy,\n",
    "        })\n",
    "\n",
    "        # Print epoch summary\n",
    "        print(f\"Epoch [{epoch+1}/{num_epochs}]: \"\n",
    "              f\"Train Loss: {train_loss:.4f}, Train Accuracy: {train_accuracy:.4f}, \"\n",
    "              f\"Val Loss: {val_loss:.4f}, Val Accuracy: {val_accuracy:.4f}\")\n",
    "\n",
    "        # Save the model at specific intervals\n",
    "        if (epoch + 1) % save_interval == 0:\n",
    "            save_path = os.path.join(\"saved_models\", f\"model_epoch_{epoch+1}.pth\")\n",
    "            os.makedirs(os.path.dirname(save_path), exist_ok=True)\n",
    "            torch.save({\n",
    "                'epoch': epoch + 1,\n",
    "                'model_state_dict': model.state_dict(),\n",
    "                'optimizer_state_dict': optimizer.state_dict(),\n",
    "                'train_loss': train_loss,\n",
    "                'val_loss': val_loss,\n",
    "            }, save_path)\n",
    "            print(f\"Model saved to {save_path}\")\n"
   ]
  },
  {
   "cell_type": "code",
   "execution_count": 10,
   "metadata": {},
   "outputs": [],
   "source": [
    "import torch\n",
    "from sklearn.metrics import accuracy_score, precision_score, recall_score, f1_score, confusion_matrix\n",
    "import seaborn as sns\n",
    "import matplotlib.pyplot as plt\n",
    "\n",
    "def test_model(model, test_loader, device, class_names=None):\n",
    "    \"\"\"\n",
    "    Test the trained model on the test dataset.\n",
    "\n",
    "    Args:\n",
    "        model: Trained PyTorch model.\n",
    "        test_loader: DataLoader for the test set.\n",
    "        device: Torch device (CPU or CUDA).\n",
    "        class_names: List of class names corresponding to the labels (optional).\n",
    "    \n",
    "    Returns:\n",
    "        None. Prints accuracy, precision, recall, and F1-score.\n",
    "    \"\"\"\n",
    "    model.eval()  # Set the model to evaluation mode\n",
    "    all_preds = []\n",
    "    all_labels = []\n",
    "\n",
    "    with torch.no_grad():  # Disable gradient calculation for testing\n",
    "        for images, labels in test_loader:\n",
    "            images, labels = images.to(device), labels.to(device)\n",
    "\n",
    "            # Labels are already numeric (encoded 0-4), no need to transform\n",
    "            # Forward pass\n",
    "            outputs = model(images)\n",
    "            preds = torch.argmax(outputs, dim=1)  # Get predicted class indices\n",
    "\n",
    "            # Collect predictions and true labels\n",
    "            all_preds.extend(preds.cpu().numpy())\n",
    "            all_labels.extend(labels.cpu().numpy())\n",
    "\n",
    "    # Calculate metrics\n",
    "    accuracy = accuracy_score(all_labels, all_preds)\n",
    "    precision = precision_score(all_labels, all_preds, average='weighted')\n",
    "    recall = recall_score(all_labels, all_preds, average='weighted')\n",
    "    f1 = f1_score(all_labels, all_preds, average='weighted')\n",
    "\n",
    "    # Print results\n",
    "    print(f\"Test Accuracy: {accuracy:.4f}\")\n",
    "    print(f\"Test Precision: {precision:.4f}\")\n",
    "    print(f\"Test Recall: {recall:.4f}\")\n",
    "    print(f\"Test F1 Score: {f1:.4f}\")\n",
    "\n",
    "    # Confusion matrix\n",
    "    cm = confusion_matrix(all_labels, all_preds)\n",
    "    if class_names:\n",
    "        plt.figure(figsize=(10, 8))\n",
    "        sns.heatmap(cm, annot=True, fmt='d', cmap='Blues', xticklabels=class_names, yticklabels=class_names)\n",
    "        plt.xlabel('Predicted')\n",
    "        plt.ylabel('True')\n",
    "        plt.title('Confusion Matrix')\n",
    "        plt.show()\n",
    "        # save confusion matrix locally\n",
    "        plt.savefig('confusion_matrix.png')\n"
   ]
  },
  {
   "cell_type": "code",
   "execution_count": 11,
   "metadata": {},
   "outputs": [],
   "source": [
    "from sklearn.utils.class_weight import compute_class_weight\n",
    "import torch\n",
    "\n",
    "#class_weights = compute_class_weight('balanced', classes=np.unique(dataset.labels), y=dataset.labels)\n",
    "#class_weights = torch.tensor(class_weights, dtype=torch.float).to(device)\n",
    "#\n",
    "#criterion = nn.CrossEntropyLoss(weight=class_weights)\n",
    "#criterion = nn.CrossEntropyLoss()\n",
    "#optimizer = torch.optim.Adam(model.parameters(), lr=0.00003, weight_decay=1e-3)\n",
    "#scheduler = torch.optim.lr_scheduler.StepLR(optimizer, step_size=5, gamma=0.5)\n",
    "\n",
    "criterion = nn.CrossEntropyLoss()\n",
    "optimizer = torch.optim.Adam(model.parameters(),lr=0.0001)\n",
    "save_folder = \"../models/classifier\""
   ]
  },
  {
   "cell_type": "code",
   "execution_count": 12,
   "metadata": {},
   "outputs": [
    {
     "name": "stdout",
     "output_type": "stream",
     "text": [
      "Training on device: cuda\n"
     ]
    }
   ],
   "source": [
    "# Assuming model, train_loader, val_loader, criterion, optimizer are defined\n",
    "device = torch.device(\"cuda\" if torch.cuda.is_available() else \"cpu\")\n",
    "print(f\"Training on device: {device}\")\n"
   ]
  },
  {
   "cell_type": "code",
   "execution_count": 13,
   "metadata": {},
   "outputs": [
    {
     "name": "stderr",
     "output_type": "stream",
     "text": [
      "Epoch 1/10 - Training: 100%|██████████| 109/109 [01:23<00:00,  1.30it/s, Loss=1.0758]\n",
      "Epoch 1/10 - Validation: 100%|██████████| 16/16 [00:10<00:00,  1.58it/s, Loss=1.1676]\n"
     ]
    },
    {
     "name": "stdout",
     "output_type": "stream",
     "text": [
      "Epoch [1/10]: Train Loss: 0.9107, Train Accuracy: 0.5622, Val Loss: 0.9652, Val Accuracy: 0.5414\n",
      "Model saved to saved_models\\model_epoch_1.pth\n"
     ]
    },
    {
     "name": "stderr",
     "output_type": "stream",
     "text": [
      "Epoch 2/10 - Training: 100%|██████████| 109/109 [00:57<00:00,  1.91it/s, Loss=0.4014]\n",
      "Epoch 2/10 - Validation: 100%|██████████| 16/16 [00:07<00:00,  2.11it/s, Loss=1.0196]\n"
     ]
    },
    {
     "name": "stdout",
     "output_type": "stream",
     "text": [
      "Epoch [2/10]: Train Loss: 0.4724, Train Accuracy: 0.8216, Val Loss: 1.2643, Val Accuracy: 0.5232\n",
      "Model saved to saved_models\\model_epoch_2.pth\n"
     ]
    },
    {
     "name": "stderr",
     "output_type": "stream",
     "text": [
      "Epoch 3/10 - Training: 100%|██████████| 109/109 [00:56<00:00,  1.94it/s, Loss=0.0545]\n",
      "Epoch 3/10 - Validation: 100%|██████████| 16/16 [00:07<00:00,  2.08it/s, Loss=1.4816]\n"
     ]
    },
    {
     "name": "stdout",
     "output_type": "stream",
     "text": [
      "Epoch [3/10]: Train Loss: 0.1436, Train Accuracy: 0.9584, Val Loss: 1.4595, Val Accuracy: 0.5192\n",
      "Model saved to saved_models\\model_epoch_3.pth\n"
     ]
    },
    {
     "name": "stderr",
     "output_type": "stream",
     "text": [
      "Epoch 4/10 - Training: 100%|██████████| 109/109 [00:56<00:00,  1.92it/s, Loss=0.0994]\n",
      "Epoch 4/10 - Validation: 100%|██████████| 16/16 [00:07<00:00,  2.12it/s, Loss=2.0436]\n"
     ]
    },
    {
     "name": "stdout",
     "output_type": "stream",
     "text": [
      "Epoch [4/10]: Train Loss: 0.0499, Train Accuracy: 0.9923, Val Loss: 1.4584, Val Accuracy: 0.5354\n",
      "Model saved to saved_models\\model_epoch_4.pth\n"
     ]
    },
    {
     "name": "stderr",
     "output_type": "stream",
     "text": [
      "Epoch 5/10 - Training: 100%|██████████| 109/109 [00:57<00:00,  1.91it/s, Loss=0.0064]\n",
      "Epoch 5/10 - Validation: 100%|██████████| 16/16 [00:07<00:00,  2.03it/s, Loss=2.0351]\n"
     ]
    },
    {
     "name": "stdout",
     "output_type": "stream",
     "text": [
      "Epoch [5/10]: Train Loss: 0.0253, Train Accuracy: 0.9948, Val Loss: 1.7968, Val Accuracy: 0.5111\n",
      "Model saved to saved_models\\model_epoch_5.pth\n"
     ]
    },
    {
     "name": "stderr",
     "output_type": "stream",
     "text": [
      "Epoch 6/10 - Training: 100%|██████████| 109/109 [00:57<00:00,  1.91it/s, Loss=0.0901]\n",
      "Epoch 6/10 - Validation: 100%|██████████| 16/16 [00:07<00:00,  2.11it/s, Loss=1.3111]\n"
     ]
    },
    {
     "name": "stdout",
     "output_type": "stream",
     "text": [
      "Epoch [6/10]: Train Loss: 0.0273, Train Accuracy: 0.9937, Val Loss: 1.7433, Val Accuracy: 0.5556\n",
      "Model saved to saved_models\\model_epoch_6.pth\n"
     ]
    },
    {
     "name": "stderr",
     "output_type": "stream",
     "text": [
      "Epoch 7/10 - Training: 100%|██████████| 109/109 [00:56<00:00,  1.94it/s, Loss=0.0893]\n",
      "Epoch 7/10 - Validation: 100%|██████████| 16/16 [00:07<00:00,  2.10it/s, Loss=1.2149]\n"
     ]
    },
    {
     "name": "stdout",
     "output_type": "stream",
     "text": [
      "Epoch [7/10]: Train Loss: 0.0587, Train Accuracy: 0.9808, Val Loss: 1.7491, Val Accuracy: 0.5414\n",
      "Model saved to saved_models\\model_epoch_7.pth\n"
     ]
    },
    {
     "name": "stderr",
     "output_type": "stream",
     "text": [
      "Epoch 8/10 - Training: 100%|██████████| 109/109 [00:56<00:00,  1.93it/s, Loss=0.3508]\n",
      "Epoch 8/10 - Validation: 100%|██████████| 16/16 [00:07<00:00,  2.09it/s, Loss=2.6156]\n"
     ]
    },
    {
     "name": "stdout",
     "output_type": "stream",
     "text": [
      "Epoch [8/10]: Train Loss: 0.0983, Train Accuracy: 0.9627, Val Loss: 1.8887, Val Accuracy: 0.5111\n",
      "Model saved to saved_models\\model_epoch_8.pth\n"
     ]
    },
    {
     "name": "stderr",
     "output_type": "stream",
     "text": [
      "Epoch 9/10 - Training: 100%|██████████| 109/109 [00:56<00:00,  1.91it/s, Loss=0.0952]\n",
      "Epoch 9/10 - Validation: 100%|██████████| 16/16 [00:07<00:00,  2.11it/s, Loss=0.7411]\n"
     ]
    },
    {
     "name": "stdout",
     "output_type": "stream",
     "text": [
      "Epoch [9/10]: Train Loss: 0.1332, Train Accuracy: 0.9521, Val Loss: 2.2765, Val Accuracy: 0.5434\n",
      "Model saved to saved_models\\model_epoch_9.pth\n"
     ]
    },
    {
     "name": "stderr",
     "output_type": "stream",
     "text": [
      "Epoch 10/10 - Training: 100%|██████████| 109/109 [00:57<00:00,  1.91it/s, Loss=0.1259]\n",
      "Epoch 10/10 - Validation: 100%|██████████| 16/16 [00:07<00:00,  2.14it/s, Loss=1.9335]"
     ]
    },
    {
     "name": "stdout",
     "output_type": "stream",
     "text": [
      "Epoch [10/10]: Train Loss: 0.0939, Train Accuracy: 0.9624, Val Loss: 1.9689, Val Accuracy: 0.4909\n",
      "Model saved to saved_models\\model_epoch_10.pth\n"
     ]
    },
    {
     "name": "stderr",
     "output_type": "stream",
     "text": [
      "\n"
     ]
    }
   ],
   "source": [
    "train_model(model, train_loader, val_loader, criterion, optimizer, num_epochs=10)"
   ]
  },
  {
   "cell_type": "code",
   "execution_count": 14,
   "metadata": {},
   "outputs": [
    {
     "name": "stdout",
     "output_type": "stream",
     "text": [
      "Test Accuracy: 0.5109\n",
      "Test Precision: 0.5179\n",
      "Test Recall: 0.5109\n",
      "Test F1 Score: 0.5125\n"
     ]
    }
   ],
   "source": [
    "# test model\n",
    "test_model(model, test_loader, device)"
   ]
  },
  {
   "cell_type": "code",
   "execution_count": null,
   "metadata": {},
   "outputs": [],
   "source": []
  },
  {
   "cell_type": "markdown",
   "metadata": {},
   "source": [
    "## Guide diffusion"
   ]
  },
  {
   "cell_type": "markdown",
   "metadata": {},
   "source": [
    "from diffusers import StableDiffusionPipeline\n",
    "import torch\n",
    "import os n \n",
    "\n",
    "# Initialize the pipeline\n",
    "pipeline = StableDiffusionPipeline.from_pretrained(\"riffusion/riffusion-model-v1\", torch_dtype=torch.float16)\n",
    "pipeline.to(\"cuda\")\n",
    "\n",
    "# List of prompts for generating images\n",
    "prompts = [\n",
    "    \"a jazz song with guitar and drums\",\n",
    "    \"a classical piano solo in a grand hall\",\n",
    "    \"an energetic rock concert with electric guitars\",\n",
    "    \"a relaxing hip-hop rap beat\",\n",
    "    \"a vibrant electronic dance beat with colorful visuals\",\n",
    "    \"a soulful saxophone performance in a smoky bar\",\n",
    "    \"a folk song with banjo and violin in the countryside\",\n",
    "    \"a heavy metal track with loud drums and guitar solos\",\n",
    "    \"a calm meditation track with flutes and soft tones\",\n",
    "    \"an electronic techno beat with strong bass\"\n",
    "]\n",
    "\n",
    "# Directory to save the generated images\n",
    "output_dir = \"generated_images\"\n",
    "os.makedirs(output_dir, exist_ok=True)\n",
    "\n",
    "# Generate and save images\n",
    "for prompt in prompts:\n",
    "    # Generate the image\n",
    "    image = pipeline(prompt).images[0]\n",
    "    \n",
    "    # Clean the prompt to use as filename\n",
    "    filename = os.path.join(output_dir, prompt.replace(\" \", \"_\").replace(\"/\", \"_\") + \".png\")\n",
    "    \n",
    "    # Save the image\n",
    "    image.save(filename)\n",
    "    print(f\"Saved: {filename}\")\n"
   ]
  },
  {
   "cell_type": "code",
   "execution_count": null,
   "metadata": {},
   "outputs": [],
   "source": [
    "from diffusers import StableDiffusionPipeline, StableDiffusionImg2ImgPipeline\n",
    "import torch\n",
    "\n",
    "# Load the local trained classifier model in models/classifier/model_epoch_10.pth\n",
    "classifier = models.resnet18(pretrained=False)\n",
    "classifier.fc = nn.Linear(classifier.fc.in_features, num_classes)\n",
    "classifier.load_state_dict(torch.load(\"models/classifier/model_epoch_10.pth\")['model_state_dict'])\n",
    "classifier.eval()\n",
    "classifier.to(\"cuda\")\n",
    "\n",
    "# Function to apply classifier guidance\n",
    "def apply_classifier_guidance(image, prompt, strength=0.5):\n",
    "    # Convert image to tensor and normalize\n",
    "    transform = transforms.Compose([\n",
    "        transforms.Resize((224, 224)),\n",
    "        transforms.ToTensor(),\n",
    "        transforms.Normalize(mean=[0.485, 0.456, 0.406], std=[0.229, 0.224, 0.225])\n",
    "    ])\n",
    "    image_tensor = transform(image).unsqueeze(0).to(\"cuda\")\n",
    "\n",
    "    # Get classifier predictions\n",
    "    with torch.no_grad():\n",
    "        outputs = classifier(image_tensor)\n",
    "        _, predicted = torch.max(outputs, 1)\n",
    "\n",
    "    # Apply guidance based on classifier prediction\n",
    "    if predicted.item() == 0:  # Assuming class 0 is the desired class\n",
    "        return image\n",
    "    else:\n",
    "        # Modify the image based on the classifier's prediction\n",
    "        # This is a placeholder for actual guidance logic\n",
    "        return image\n",
    "\n",
    "# Initialize the pipeline\n",
    "pipeline = StableDiffusionImg2ImgPipeline.from_pretrained(\"riffusion/riffusion-model-v1\", torch_dtype=torch.float16)\n",
    "pipeline.to(\"cuda\")\n",
    "\n",
    "# List of prompts for generating images\n",
    "prompts = [\n",
    "    \"a jazz song with guitar and drums\",\n",
    "    \"a classical piano solo in a grand hall\",\n",
    "    \"an energetic rock concert with electric guitars\",\n",
    "    \"a relaxing hip-hop rap beat\",\n",
    "    \"a vibrant electronic dance beat with colorful visuals\",\n",
    "    \"a soulful saxophone performance in a smoky bar\",\n",
    "    \"a folk song with banjo and violin in the countryside\",\n",
    "    \"a heavy metal track with loud drums and guitar solos\",\n",
    "    \"a calm meditation track with flutes and soft tones\",\n",
    "    \"an electronic techno beat with strong bass\"\n",
    "]\n",
    "\n",
    "# Directory to save the generated images\n",
    "output_dir = \"generated_images\"\n",
    "os.makedirs(output_dir, exist_ok=True)\n",
    "\n",
    "# Generate and save images with classifier guidance\n",
    "for prompt in prompts:\n",
    "    # Generate the image\n",
    "    image = pipeline(prompt).images[0]\n",
    "    \n",
    "    # Apply classifier guidance\n",
    "    guided_image = apply_classifier_guidance(image, prompt)\n",
    "    \n",
    "    # Clean the prompt to use as filename\n",
    "    filename = os.path.join(output_dir, prompt.replace(\" \", \"_\").replace(\"/\", \"_\") + \"_guided.png\")\n",
    "    \n",
    "    # Save the image\n",
    "    guided_image.save(filename)\n",
    "    print(f\"Saved: {filename}\")"
   ]
  }
 ],
 "metadata": {
  "kernelspec": {
   "display_name": "ddpm",
   "language": "python",
   "name": "python3"
  },
  "language_info": {
   "codemirror_mode": {
    "name": "ipython",
    "version": 3
   },
   "file_extension": ".py",
   "mimetype": "text/x-python",
   "name": "python",
   "nbconvert_exporter": "python",
   "pygments_lexer": "ipython3",
   "version": "3.10.10"
  }
 },
 "nbformat": 4,
 "nbformat_minor": 2
}

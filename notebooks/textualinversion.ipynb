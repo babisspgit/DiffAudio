{
 "cells": [
  {
   "cell_type": "code",
   "execution_count": 1,
   "metadata": {},
   "outputs": [
    {
     "name": "stdout",
     "output_type": "stream",
     "text": [
      "Configuration already exists at C:\\Users\\spbsp/.cache\\huggingface\\accelerate\\default_config.yaml, will not override. Run `accelerate config` manually or pass a different `save_location`.\n"
     ]
    }
   ],
   "source": [
    "!accelerate config default"
   ]
  },
  {
   "cell_type": "code",
   "execution_count": null,
   "metadata": {},
   "outputs": [],
   "source": [
    "!accelerate launch C:/Users/spbsp/anaconda3/Lib/site-packages/diffusers/loaders/textual_inversion.py"
   ]
  },
  {
   "cell_type": "code",
   "execution_count": 4,
   "metadata": {},
   "outputs": [
    {
     "name": "stdout",
     "output_type": "stream",
     "text": [
      "Command failed with error:\n",
      "Traceback (most recent call last):\n",
      "  File \"C:\\Users\\spbsp\\anaconda3\\Lib\\site-packages\\diffusers\\loaders\\textual_inversion.py\", line 21, in <module>\n",
      "    from ..models.modeling_utils import load_state_dict\n",
      "ImportError: attempted relative import with no known parent package\n",
      "Traceback (most recent call last):\n",
      "  File \"C:\\Users\\spbsp\\anaconda3\\envs\\ddpm\\lib\\runpy.py\", line 196, in _run_module_as_main\n",
      "    return _run_code(code, main_globals, None,\n",
      "  File \"C:\\Users\\spbsp\\anaconda3\\envs\\ddpm\\lib\\runpy.py\", line 86, in _run_code\n",
      "    exec(code, run_globals)\n",
      "  File \"C:\\Users\\spbsp\\anaconda3\\envs\\ddpm\\Scripts\\accelerate.exe\\__main__.py\", line 7, in <module>\n",
      "  File \"C:\\Users\\spbsp\\anaconda3\\envs\\ddpm\\lib\\site-packages\\accelerate\\commands\\accelerate_cli.py\", line 48, in main\n",
      "    args.func(args)\n",
      "  File \"C:\\Users\\spbsp\\anaconda3\\envs\\ddpm\\lib\\site-packages\\accelerate\\commands\\launch.py\", line 1168, in launch_command\n",
      "    simple_launcher(args)\n",
      "  File \"C:\\Users\\spbsp\\anaconda3\\envs\\ddpm\\lib\\site-packages\\accelerate\\commands\\launch.py\", line 763, in simple_launcher\n",
      "    raise subprocess.CalledProcessError(returncode=process.returncode, cmd=cmd)\n",
      "subprocess.CalledProcessError: Command '['C:\\\\Users\\\\spbsp\\\\anaconda3\\\\envs\\\\ddpm\\\\python.exe', 'C:/Users/spbsp/anaconda3/Lib/site-packages/diffusers/loaders/textual_inversion.py', '--pretrained_model_name_or_path', 'riffusion/riffusion-model-v1', '--train_data_dir', './data/processed/text_inv_metallica', '--learnable_property', 'style', '--placeholder_token', '<Metallica-song>', '--initializer_token', 'rock', '--resolution', '512', '--train_batch_size', '1', '--gradient_accumulation_steps', '4', '--max_train_steps', '3000', '--learning_rate', '5.0e-04', '--scale_lr', '--lr_scheduler', 'constant', '--lr_warmup_steps', '0', '--output_dir', 'md_textinv_metallica', '--push_to_hub']' returned non-zero exit status 1.\n",
      "\n"
     ]
    }
   ],
   "source": [
    "#export MODEL_NAME=\"riffusion/riffusion-model-v1\"\n",
    "#export DATA_DIR=\"./data/processed/text_inv_metallica\"\n",
    "#\n",
    "#accelerate launch textual_inversion.py \\\n",
    "#  --pretrained_model_name_or_path=$MODEL_NAME \\ \n",
    "#  --train_data_dir=$DATA_DIR \\\n",
    "#  --learnable_property=\"style\" \\  \n",
    "#  --placeholder_token=\"<Metallica-song>\" \\\n",
    "#  --initializer_token=\"rock\" \\         #song,music,riff for more generic and for more specific metal,rock\n",
    "#  --resolution=512 \\\n",
    "#  --train_batch_size=1 \\\n",
    "#  --gradient_accumulation_steps=4 \\\n",
    "#  --max_train_steps=3000 \\\n",
    "#  --learning_rate=5.0e-04 \\\n",
    "#  --scale_lr \\\n",
    "#  --lr_scheduler=\"constant\" \\\n",
    "#  --lr_warmup_steps=0 \\\n",
    "#  --output_dir=\"md_textinv_metallica\" \\\n",
    "#  --push_to_hub\n",
    "\n",
    "import os\n",
    "import subprocess\n",
    "\n",
    "# Step 1: Set environment variables\n",
    "os.environ[\"MODEL_NAME\"] = \"riffusion/riffusion-model-v1\"\n",
    "os.environ[\"DATA_DIR\"] = \"./data/processed/text_inv_metallica\"\n",
    "\n",
    "# Step 2: Prepare the command\n",
    "command = [\n",
    "    \"accelerate\", \"launch\", \"C:/Users/spbsp/anaconda3/Lib/site-packages/diffusers/loaders/textual_inversion.py\",\n",
    "    \"--pretrained_model_name_or_path\", os.environ[\"MODEL_NAME\"],\n",
    "    \"--train_data_dir\", os.environ[\"DATA_DIR\"],\n",
    "    \"--learnable_property\", \"style\",\n",
    "    \"--placeholder_token\", \"<Metallica-song>\",\n",
    "    \"--initializer_token\", \"rock\",\n",
    "    \"--resolution\", \"512\",\n",
    "    \"--train_batch_size\", \"1\",\n",
    "    \"--gradient_accumulation_steps\", \"4\",\n",
    "    \"--max_train_steps\", \"3000\",\n",
    "    \"--learning_rate\", \"5.0e-04\",\n",
    "    \"--scale_lr\",\n",
    "    \"--lr_scheduler\", \"constant\",\n",
    "    \"--lr_warmup_steps\", \"0\",\n",
    "    \"--output_dir\", \"md_textinv_metallica\",\n",
    "    \"--push_to_hub\"\n",
    "]\n",
    "\n",
    "# Step 3: Execute the command\n",
    "try:\n",
    "    result = subprocess.run(command, check=True, text=True, capture_output=True)\n",
    "    print(\"Command executed successfully!\")\n",
    "    print(\"Output:\", result.stdout)\n",
    "except subprocess.CalledProcessError as e:\n",
    "    print(\"Command failed with error:\")\n",
    "    print(e.stderr)\n"
   ]
  },
  {
   "cell_type": "code",
   "execution_count": 3,
   "metadata": {},
   "outputs": [
    {
     "name": "stdout",
     "output_type": "stream",
     "text": [
      "Shell script failed with error:\n",
      "<3>WSL (13) ERROR: CreateProcessEntryCommon:502: execvpe /bin/bash failed 2\n",
      "<3>WSL (13) ERROR: CreateProcessEntryCommon:505: Create process not expected to return\n",
      "\n"
     ]
    }
   ],
   "source": [
    "import subprocess\n",
    "\n",
    "# Run the shell script directly\n",
    "try:\n",
    "    result = subprocess.run([\"bash\", \"textinv_metallica.sh\"], check=True, text=True, capture_output=True)\n",
    "    print(\"Shell script executed successfully!\")\n",
    "    print(\"Output:\", result.stdout)\n",
    "except subprocess.CalledProcessError as e:\n",
    "    print(\"Shell script failed with error:\")\n",
    "    print(e.stderr)\n"
   ]
  },
  {
   "cell_type": "code",
   "execution_count": null,
   "metadata": {},
   "outputs": [],
   "source": []
  }
 ],
 "metadata": {
  "kernelspec": {
   "display_name": "ddpm",
   "language": "python",
   "name": "python3"
  },
  "language_info": {
   "codemirror_mode": {
    "name": "ipython",
    "version": 3
   },
   "file_extension": ".py",
   "mimetype": "text/x-python",
   "name": "python",
   "nbconvert_exporter": "python",
   "pygments_lexer": "ipython3",
   "version": "3.10.10"
  }
 },
 "nbformat": 4,
 "nbformat_minor": 2
}

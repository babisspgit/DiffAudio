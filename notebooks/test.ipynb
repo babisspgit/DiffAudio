{
 "cells": [
  {
   "cell_type": "code",
   "execution_count": 5,
   "metadata": {},
   "outputs": [
    {
     "name": "stdout",
     "output_type": "stream",
     "text": [
      "0qbV4e18lWrTTxlswVoLbI_segment_1.png  22GbAGb80ZZNgm2yrBMnpR_segment_4.png\n",
      "0qbV4e18lWrTTxlswVoLbI_segment_2.png  22GbAGb80ZZNgm2yrBMnpR_segment_5.png\n",
      "0qbV4e18lWrTTxlswVoLbI_segment_3.png  2YTwVDQOSGclX2N3AKetOP_segment_1.png\n",
      "0qbV4e18lWrTTxlswVoLbI_segment_4.png  2YTwVDQOSGclX2N3AKetOP_segment_2.png\n",
      "0qbV4e18lWrTTxlswVoLbI_segment_5.png  2YTwVDQOSGclX2N3AKetOP_segment_3.png\n",
      "1PhLYngBKbeDtdmDzCg3Pb_segment_1.png  2YTwVDQOSGclX2N3AKetOP_segment_4.png\n",
      "1PhLYngBKbeDtdmDzCg3Pb_segment_2.png  2YTwVDQOSGclX2N3AKetOP_segment_5.png\n",
      "1PhLYngBKbeDtdmDzCg3Pb_segment_3.png  6UB9mShVLbMm0W4e6vud4C_segment_1.png\n",
      "1PhLYngBKbeDtdmDzCg3Pb_segment_4.png  6UB9mShVLbMm0W4e6vud4C_segment_2.png\n",
      "1PhLYngBKbeDtdmDzCg3Pb_segment_5.png  6UB9mShVLbMm0W4e6vud4C_segment_3.png\n",
      "22GbAGb80ZZNgm2yrBMnpR_segment_1.png  6UB9mShVLbMm0W4e6vud4C_segment_4.png\n",
      "22GbAGb80ZZNgm2yrBMnpR_segment_2.png  6UB9mShVLbMm0W4e6vud4C_segment_5.png\n",
      "22GbAGb80ZZNgm2yrBMnpR_segment_3.png\n"
     ]
    }
   ],
   "source": [
    "!ls /work3/s222948/data/processed/text_inv_metallica"
   ]
  },
  {
   "cell_type": "code",
   "execution_count": null,
   "metadata": {},
   "outputs": [],
   "source": [
    "accelerate launch textual_inversion.py \\\n",
    "  --pretrained_model_name_or_path=\"riffusion/riffusion-model-v1\" \\\n",
    "  --train_data_dir=\"/work3/s222948/data/processed/text_inv_metallica\" \\\n",
    "  --learnable_property=\"style\" \\\n",
    "  --placeholder_token=\"<Metallica-song>\" \\\n",
    "  --initializer_token=\"rock\" \\\n",
    "  --resolution=512 \\\n",
    "  --train_batch_size=1 \\\n",
    "  --gradient_accumulation_steps=4 \\\n",
    "  --max_train_steps=3000 \\\n",
    "  --learning_rate=5.0e-04 \\\n",
    "  --scale_lr \\\n",
    "  --lr_scheduler=\"constant\" \\\n",
    "  --lr_warmup_steps=0 \\\n",
    "  --output_dir=\"/work3/s222948/data/md_textinv_metallica_rock\" \\\n"
   ]
  }
 ],
 "metadata": {
  "kernelspec": {
   "display_name": "usr",
   "language": "python",
   "name": "python3"
  },
  "language_info": {
   "codemirror_mode": {
    "name": "ipython",
    "version": 3
   },
   "file_extension": ".py",
   "mimetype": "text/x-python",
   "name": "python",
   "nbconvert_exporter": "python",
   "pygments_lexer": "ipython3",
   "version": "3.9.18"
  }
 },
 "nbformat": 4,
 "nbformat_minor": 2
}
